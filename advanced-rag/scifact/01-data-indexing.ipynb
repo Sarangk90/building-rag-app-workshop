{
 "cells": [
  {
   "cell_type": "markdown",
   "id": "87f2244f11eab922",
   "metadata": {},
   "source": [
    "# Data indexing\n",
    "\n",
    "## Scifact Dataset\n",
    "\n",
    "\n",
    "The Scifact dataset is a specialized collection of scientific claims and evidence from research papers, designed for scientific fact-checking and verification tasks. It consists of scientific claims paired with abstracts from research papers that either support or refute these claims.\n",
    "\n",
    "The dataset contains over 5,000 scientific abstracts from research papers across various scientific domains including medicine, biology, chemistry, and other life sciences. Each entry in the dataset includes a unique ID, the paper's title, and the full text of the abstract.\n",
    "\n",
    "Originally created to help evaluate scientific claim verification systems, this dataset is part of the Benchmark for Scientific Claim Verification (BeIR) collection. It's particularly useful for building scientific fact-checking systems, training models to understand and verify scientific claims, and developing information retrieval systems for scientific literature.\n",
    "\n",
    "Let's explore the dataset structure and prepare it for our RAG application.\n",
    "\n"
   ]
  },
  {
   "cell_type": "code",
   "id": "5d321e6755b15e1a",
   "metadata": {
    "ExecuteTime": {
     "end_time": "2025-07-28T03:18:13.712899Z",
     "start_time": "2025-07-28T03:18:13.459573Z"
    }
   },
   "source": [
    "from datasets import load_dataset\n",
    "\n",
    "dataset = load_dataset(\"BeIR/scifact\", \"corpus\", split=\"corpus\")\n",
    "dataset[0]"
   ],
   "outputs": [
    {
     "name": "stderr",
     "output_type": "stream",
     "text": [
      "Using the latest cached version of the dataset since BeIR/scifact couldn't be found on the Hugging Face Hub\n",
      "Found the latest cached dataset configuration 'corpus' at /Users/sarangsanjaykulkarni/.cache/huggingface/datasets/BeIR___scifact/corpus/0.0.0/984eed826375f18d27936c4a32bf0f8491e3f414 (last modified on Sun Jul  6 21:19:11 2025).\n"
     ]
    },
    {
     "data": {
      "text/plain": [
       "{'_id': '4983',\n",
       " 'title': 'Microstructural development of human newborn cerebral white matter assessed in vivo by diffusion tensor magnetic resonance imaging.',\n",
       " 'text': 'Alterations of the architecture of cerebral white matter in the developing human brain can affect cortical development and result in functional disabilities. A line scan diffusion-weighted magnetic resonance imaging (MRI) sequence with diffusion tensor analysis was applied to measure the apparent diffusion coefficient, to calculate relative anisotropy, and to delineate three-dimensional fiber architecture in cerebral white matter in preterm (n = 17) and full-term infants (n = 7). To assess effects of prematurity on cerebral white matter development, early gestation preterm infants (n = 10) were studied a second time at term. In the central white matter the mean apparent diffusion coefficient at 28 wk was high, 1.8 microm2/ms, and decreased toward term to 1.2 microm2/ms. In the posterior limb of the internal capsule, the mean apparent diffusion coefficients at both times were similar (1.2 versus 1.1 microm2/ms). Relative anisotropy was higher the closer birth was to term with greater absolute values in the internal capsule than in the central white matter. Preterm infants at term showed higher mean diffusion coefficients in the central white matter (1.4 +/- 0.24 versus 1.15 +/- 0.09 microm2/ms, p = 0.016) and lower relative anisotropy in both areas compared with full-term infants (white matter, 10.9 +/- 0.6 versus 22.9 +/- 3.0%, p = 0.001; internal capsule, 24.0 +/- 4.44 versus 33.1 +/- 0.6% p = 0.006). Nonmyelinated fibers in the corpus callosum were visible by diffusion tensor MRI as early as 28 wk; full-term and preterm infants at term showed marked differences in white matter fiber organization. The data indicate that quantitative assessment of water diffusion by diffusion tensor MRI provides insight into microstructural development in cerebral white matter in living infants.'}"
      ]
     },
     "execution_count": 2,
     "metadata": {},
     "output_type": "execute_result"
    }
   ],
   "execution_count": 2
  },
  {
   "cell_type": "markdown",
   "id": "2568cad43ca7a86",
   "metadata": {},
   "source": [
    "### Description\n",
    "- **Loading the Dataset:** We use the `datasets` library to load the \"corpus\" split of the Scifact dataset from the BeIR collection. This split contains the abstracts we’ll index.\n",
    "- **Inspecting a Sample:** `dataset[0]` retrieves the first entry, showing its structure: a dictionary with keys `_id` (unique identifier), `title` (paper title), and `text` (abstract text).\n",
    "- **Purpose:** This step helps us understand the data we’re working with, confirming it matches the expected format for indexing.\n",
    "\n",
    "Next, let’s check the total number of documents in the dataset.\n"
   ]
  },
  {
   "cell_type": "code",
   "id": "26797f7a57adc4ca",
   "metadata": {
    "ExecuteTime": {
     "end_time": "2025-07-28T03:18:34.720625Z",
     "start_time": "2025-07-28T03:18:34.717648Z"
    }
   },
   "source": [
    "len(dataset)"
   ],
   "outputs": [
    {
     "data": {
      "text/plain": [
       "5183"
      ]
     },
     "execution_count": 3,
     "metadata": {},
     "output_type": "execute_result"
    }
   ],
   "execution_count": 3
  },
  {
   "cell_type": "markdown",
   "id": "f976c453bf0d27c0",
   "metadata": {},
   "source": [
    "## Dense Embeddings\n",
    "\n",
    "Dense embeddings capture the semantic meaning of text, allowing searches based on concepts rather than just exact keywords. For this notebook, we’re not going to choose the fanciest embedding model out there, but stick to something simple and efficient. FastEmbed provides pretrained models that we can use out of the box. Due to ONNX usage, these models can be launched efficiently even on a CPU. The `all-MiniLM-L6-v2` model is a lightweight model from Sentence Transformers that’s good for a start.\n"
   ]
  },
  {
   "cell_type": "code",
   "id": "611ad98114d793b9",
   "metadata": {
    "ExecuteTime": {
     "end_time": "2025-07-28T03:22:31.147941Z",
     "start_time": "2025-07-28T03:22:29.514705Z"
    }
   },
   "source": [
    "from fastembed import TextEmbedding\n",
    "\n",
    "dense_embedding_model = TextEmbedding(\"sentence-transformers/all-MiniLM-L6-v2\")\n",
    "dense_embeddings = list(dense_embedding_model.passage_embed(dataset[\"text\"][0:1]))\n",
    "len(dense_embeddings)"
   ],
   "outputs": [
    {
     "data": {
      "text/plain": [
       "1"
      ]
     },
     "execution_count": 5,
     "metadata": {},
     "output_type": "execute_result"
    }
   ],
   "execution_count": 5
  },
  {
   "cell_type": "markdown",
   "id": "a9d222dc8f36308d",
   "metadata": {},
   "source": [
    "### Description\n",
    "- **Model Initialization:** We load the `all-MiniLM-L6-v2` model using `TextEmbedding` from FastEmbed. This model is optimized for semantic text representation and is lightweight, making it suitable for CPU-based environments.\n",
    "- **Generating Embeddings:** We embed the text of the first abstract (`dataset[\"text\"][0:1]`) to test the process. The result is a list of dense embedding vectors.\n",
    "- **Output Check:** `len(dense_embeddings)` confirms we get one embedding vector for the single document processed.\n",
    "\n",
    "Let’s inspect the dimensionality of the dense embeddings."
   ]
  },
  {
   "cell_type": "code",
   "id": "702cbdb3d2c6a32a",
   "metadata": {
    "ExecuteTime": {
     "end_time": "2025-07-28T03:22:32.860278Z",
     "start_time": "2025-07-28T03:22:32.857063Z"
    }
   },
   "source": [
    "len(dense_embeddings[0])"
   ],
   "outputs": [
    {
     "data": {
      "text/plain": [
       "384"
      ]
     },
     "execution_count": 6,
     "metadata": {},
     "output_type": "execute_result"
    }
   ],
   "execution_count": 6
  },
  {
   "cell_type": "markdown",
   "id": "f012c54fa59f50ca",
   "metadata": {},
   "source": [
    "### Description\n",
    "- **Vector Dimensionality:** This returns the length of the embedding vector (e.g., 384 dimensions for `all-MiniLM-L6-v2`).\n",
    "- **Significance:** The dimensionality is crucial for configuring the Qdrant collection later, as it defines the size of the vector space we’ll store and search."
   ]
  },
  {
   "cell_type": "markdown",
   "id": "b74386f75bb96941",
   "metadata": {},
   "source": [
    "## Sparse Embeddings\n",
    "\n",
    "Sparse embeddings, like those generated by BM25, are effective for keyword-based searches, capturing exact term matches rather than semantic similarity. Similarly, we can use a BM25 model to generate sparse embeddings, so it hopefully will handle the cases in which the dense embeddings fail.\n"
   ]
  },
  {
   "cell_type": "code",
   "id": "70bc60aa2d0956d",
   "metadata": {
    "ExecuteTime": {
     "end_time": "2025-07-28T03:22:40.662741Z",
     "start_time": "2025-07-28T03:22:38.105961Z"
    }
   },
   "source": [
    "from fastembed import SparseTextEmbedding\n",
    "\n",
    "bm25_embedding_model = SparseTextEmbedding(\"Qdrant/bm25\")\n",
    "bm25_embeddings = list(bm25_embedding_model.passage_embed(dataset[\"text\"][0:1]))\n"
   ],
   "outputs": [
    {
     "data": {
      "text/plain": [
       "Fetching 18 files:   0%|          | 0/18 [00:00<?, ?it/s]"
      ],
      "application/vnd.jupyter.widget-view+json": {
       "version_major": 2,
       "version_minor": 0,
       "model_id": "dc7cd4d6990a40caace6f1b4af0081cb"
      }
     },
     "metadata": {},
     "output_type": "display_data"
    },
    {
     "data": {
      "text/plain": [
       "dutch.txt:   0%|          | 0.00/453 [00:00<?, ?B/s]"
      ],
      "application/vnd.jupyter.widget-view+json": {
       "version_major": 2,
       "version_minor": 0,
       "model_id": "209eb4ce7cd74576b7b80ef7a855c0df"
      }
     },
     "metadata": {},
     "output_type": "display_data"
    },
    {
     "data": {
      "text/plain": [
       "config.json:   0%|          | 0.00/2.00 [00:00<?, ?B/s]"
      ],
      "application/vnd.jupyter.widget-view+json": {
       "version_major": 2,
       "version_minor": 0,
       "model_id": "249d6ea4b25142d1b858fa3477c15cf1"
      }
     },
     "metadata": {},
     "output_type": "display_data"
    },
    {
     "data": {
      "text/plain": [
       "german.txt: 0.00B [00:00, ?B/s]"
      ],
      "application/vnd.jupyter.widget-view+json": {
       "version_major": 2,
       "version_minor": 0,
       "model_id": "7c1388e5f0454ae2a76deae45b7fe7d5"
      }
     },
     "metadata": {},
     "output_type": "display_data"
    },
    {
     "data": {
      "text/plain": [
       "arabic.txt: 0.00B [00:00, ?B/s]"
      ],
      "application/vnd.jupyter.widget-view+json": {
       "version_major": 2,
       "version_minor": 0,
       "model_id": "919a7b099e054fd19d640f21d324b5c3"
      }
     },
     "metadata": {},
     "output_type": "display_data"
    },
    {
     "data": {
      "text/plain": [
       "french.txt:   0%|          | 0.00/813 [00:00<?, ?B/s]"
      ],
      "application/vnd.jupyter.widget-view+json": {
       "version_major": 2,
       "version_minor": 0,
       "model_id": "c01fe3bf6c9d4217a5ec45a4bc5a1f96"
      }
     },
     "metadata": {},
     "output_type": "display_data"
    },
    {
     "data": {
      "text/plain": [
       "english.txt:   0%|          | 0.00/936 [00:00<?, ?B/s]"
      ],
      "application/vnd.jupyter.widget-view+json": {
       "version_major": 2,
       "version_minor": 0,
       "model_id": "f07417f0aeea4e72b7e9fadee837a9b3"
      }
     },
     "metadata": {},
     "output_type": "display_data"
    },
    {
     "data": {
      "text/plain": [
       "finnish.txt: 0.00B [00:00, ?B/s]"
      ],
      "application/vnd.jupyter.widget-view+json": {
       "version_major": 2,
       "version_minor": 0,
       "model_id": "e7219a04e8954baba1d9d97aa8765f30"
      }
     },
     "metadata": {},
     "output_type": "display_data"
    },
    {
     "data": {
      "text/plain": [
       "greek.txt: 0.00B [00:00, ?B/s]"
      ],
      "application/vnd.jupyter.widget-view+json": {
       "version_major": 2,
       "version_minor": 0,
       "model_id": "7a3c5dc61ada48f78f4263f13338c50c"
      }
     },
     "metadata": {},
     "output_type": "display_data"
    },
    {
     "data": {
      "text/plain": [
       "hungarian.txt: 0.00B [00:00, ?B/s]"
      ],
      "application/vnd.jupyter.widget-view+json": {
       "version_major": 2,
       "version_minor": 0,
       "model_id": "4ebcaa2e352f462b8d218b8eb36adef1"
      }
     },
     "metadata": {},
     "output_type": "display_data"
    },
    {
     "data": {
      "text/plain": [
       "italian.txt: 0.00B [00:00, ?B/s]"
      ],
      "application/vnd.jupyter.widget-view+json": {
       "version_major": 2,
       "version_minor": 0,
       "model_id": "2d848694ffcf4314bc153466ae9fa71f"
      }
     },
     "metadata": {},
     "output_type": "display_data"
    },
    {
     "data": {
      "text/plain": [
       "norwegian.txt:   0%|          | 0.00/851 [00:00<?, ?B/s]"
      ],
      "application/vnd.jupyter.widget-view+json": {
       "version_major": 2,
       "version_minor": 0,
       "model_id": "abada7674f854df8b0a638478ebd9b0a"
      }
     },
     "metadata": {},
     "output_type": "display_data"
    },
    {
     "data": {
      "text/plain": [
       "romanian.txt: 0.00B [00:00, ?B/s]"
      ],
      "application/vnd.jupyter.widget-view+json": {
       "version_major": 2,
       "version_minor": 0,
       "model_id": "17f8595bacb348398ec154102fe34c4a"
      }
     },
     "metadata": {},
     "output_type": "display_data"
    },
    {
     "data": {
      "text/plain": [
       "portuguese.txt: 0.00B [00:00, ?B/s]"
      ],
      "application/vnd.jupyter.widget-view+json": {
       "version_major": 2,
       "version_minor": 0,
       "model_id": "a6b1f893011948d0ad00a883aa752a48"
      }
     },
     "metadata": {},
     "output_type": "display_data"
    },
    {
     "data": {
      "text/plain": [
       "danish.txt:   0%|          | 0.00/424 [00:00<?, ?B/s]"
      ],
      "application/vnd.jupyter.widget-view+json": {
       "version_major": 2,
       "version_minor": 0,
       "model_id": "947d854995334483a89f680926594d5e"
      }
     },
     "metadata": {},
     "output_type": "display_data"
    },
    {
     "data": {
      "text/plain": [
       "turkish.txt:   0%|          | 0.00/260 [00:00<?, ?B/s]"
      ],
      "application/vnd.jupyter.widget-view+json": {
       "version_major": 2,
       "version_minor": 0,
       "model_id": "a36bcafdf4684278b4e49107f2434d1f"
      }
     },
     "metadata": {},
     "output_type": "display_data"
    },
    {
     "data": {
      "text/plain": [
       "swedish.txt:   0%|          | 0.00/559 [00:00<?, ?B/s]"
      ],
      "application/vnd.jupyter.widget-view+json": {
       "version_major": 2,
       "version_minor": 0,
       "model_id": "917ab252b9a1413096f4a93547abb59b"
      }
     },
     "metadata": {},
     "output_type": "display_data"
    },
    {
     "data": {
      "text/plain": [
       "russian.txt: 0.00B [00:00, ?B/s]"
      ],
      "application/vnd.jupyter.widget-view+json": {
       "version_major": 2,
       "version_minor": 0,
       "model_id": "0990436d85234869846afb1d40e605a3"
      }
     },
     "metadata": {},
     "output_type": "display_data"
    },
    {
     "data": {
      "text/plain": [
       "spanish.txt: 0.00B [00:00, ?B/s]"
      ],
      "application/vnd.jupyter.widget-view+json": {
       "version_major": 2,
       "version_minor": 0,
       "model_id": "5533683f96474c68a063439e9ca1bd4a"
      }
     },
     "metadata": {},
     "output_type": "display_data"
    }
   ],
   "execution_count": 7
  },
  {
   "cell_type": "markdown",
   "id": "20dd23cb10438bc3",
   "metadata": {},
   "source": [
    "### Description\n",
    "- **Model Initialization:** We load the `Qdrant/bm25` model using `SparseTextEmbedding`. BM25 is a traditional ranking algorithm that scores documents based on term frequency and inverse document frequency.\n",
    "- **Generating Embeddings:** We embed the first abstract’s text to produce a sparse vector, which highlights important keywords with non-zero values while most elements remain zero.\n",
    "- **Output Inspection:** `bm25_embeddings` shows the sparse vector structure, typically as a list of dictionaries with indices and values for non-zero terms.\n",
    "- **Complementary Role:** Sparse embeddings complement dense embeddings by excelling in exact-match scenarios, enhancing retrieval robustness.\n"
   ]
  },
  {
   "cell_type": "markdown",
   "id": "ed4fbac945e35a55",
   "metadata": {},
   "source": [
    "## Putting Data in a Qdrant Collection\n",
    "\n",
    "All the vectors might be now upserted into a Qdrant collection. Keeping them all in a single one enables the possibility to combine different embeddings and create even a complex pipeline with several steps. Depending on the specifics of your data, you may prefer to use a different approach. Qdrant is a vector database optimized for storing and searching high-dimensional data efficiently.\n",
    "\n",
    "### Starting Qdrant with Docker\n",
    "\n",
    "First, let’s set up a Qdrant instance if it’s not already running.\n"
   ]
  },
  {
   "cell_type": "code",
   "id": "431ec613-ad0c-4a35-b0da-bb2f69294999",
   "metadata": {
    "ExecuteTime": {
     "end_time": "2025-07-28T03:33:30.956729Z",
     "start_time": "2025-07-28T03:33:30.643536Z"
    }
   },
   "source": "!docker run -d -p 6333:6333 -p 6334:6334 qdrant/qdrant:v1.15.0\n",
   "outputs": [
    {
     "name": "stdout",
     "output_type": "stream",
     "text": [
      "aee8942527922eca2700ea3203721b4278cde163edb7dc98ebe3e61e047b933b\r\n"
     ]
    },
    {
     "name": "stderr",
     "output_type": "stream",
     "text": [
      "huggingface/tokenizers: The current process just got forked, after parallelism has already been used. Disabling parallelism to avoid deadlocks...\n",
      "To disable this warning, you can either:\n",
      "\t- Avoid using `tokenizers` before the fork if possible\n",
      "\t- Explicitly set the environment variable TOKENIZERS_PARALLELISM=(true | false)\n"
     ]
    }
   ],
   "execution_count": 16
  },
  {
   "cell_type": "markdown",
   "id": "832bc6dec9436059",
   "metadata": {},
   "source": [
    "### Description\n",
    "- **Docker Command:** This runs Qdrant version 1.15.0 in a detached mode (`-d`) and maps ports 6333 (REST API) and 6334 (gRPC) from the container to your local machine.\n",
    "- **Purpose:** Ensures a Qdrant server is available locally to store and manage our embeddings.\n",
    "\n",
    "### Creating the Qdrant Collection\n",
    "\n",
    "Now, let’s configure a collection to store both dense and sparse embeddings."
   ]
  },
  {
   "cell_type": "code",
   "id": "1f0ba5b8b767ae5b",
   "metadata": {
    "ExecuteTime": {
     "end_time": "2025-07-28T03:33:39.084484Z",
     "start_time": "2025-07-28T03:33:39.008542Z"
    }
   },
   "source": [
    "from qdrant_client import QdrantClient, models\n",
    "\n",
    "client = QdrantClient(\"http://localhost:6333\", timeout=600)\n",
    "client.create_collection(\n",
    "    \"scifact\",\n",
    "    vectors_config={\n",
    "        \"all-MiniLM-L6-v2\": models.VectorParams(\n",
    "            size=len(dense_embeddings[0]),\n",
    "            distance=models.Distance.COSINE,\n",
    "\n",
    "        )\n",
    "    },\n",
    "    sparse_vectors_config={\n",
    "        \"bm25\": models.SparseVectorParams(\n",
    "            modifier=models.Modifier.IDF,\n",
    "        )\n",
    "    }\n",
    ")"
   ],
   "outputs": [
    {
     "data": {
      "text/plain": [
       "True"
      ]
     },
     "execution_count": 17,
     "metadata": {},
     "output_type": "execute_result"
    }
   ],
   "execution_count": 17
  },
  {
   "cell_type": "markdown",
   "id": "fe2d41867ee8aa3d",
   "metadata": {},
   "source": [
    "\n",
    "### Description\n",
    "- **Client Setup:** We connect to the local Qdrant instance with a generous timeout (600 seconds) to handle large uploads.\n",
    "- **Collection Creation:** We create a collection named \"scifact\" with configurations for:\n",
    "  - **Dense Vectors:** Named `all-MiniLM-L6-v2`, with the vector size from our earlier embedding (e.g., 384) and Cosine distance for similarity searches.\n",
    "  - **Sparse Vectors:** Named `bm25`, using an IDF (Inverse Document Frequency) modifier to weight terms based on their rarity across the dataset.\n",
    "- **Why Combined Storage:** Storing both embedding types in one collection enables hybrid search capabilities later.\n",
    "\n",
    "### Uploading Data\n",
    "\n",
    "We’ll upload the dataset’s embeddings and metadata to Qdrant in batches for efficiency.\n"
   ]
  },
  {
   "cell_type": "code",
   "id": "238650e7e3ea136e",
   "metadata": {
    "ExecuteTime": {
     "end_time": "2025-07-28T03:34:21.750582Z",
     "start_time": "2025-07-28T03:33:47.522272Z"
    }
   },
   "source": [
    "import tqdm\n",
    "\n",
    "batch_size = 5\n",
    "for batch in tqdm.tqdm(dataset.iter(batch_size=batch_size), \n",
    "                       total=len(dataset) // batch_size):\n",
    "    dense_embeddings = list(dense_embedding_model.passage_embed(batch[\"text\"]))\n",
    "    bm25_embeddings = list(bm25_embedding_model.passage_embed(batch[\"text\"]))\n",
    "    \n",
    "    client.upload_points(\n",
    "        \"scifact\",\n",
    "        points=[\n",
    "            models.PointStruct(\n",
    "                id=int(batch[\"_id\"][i]),\n",
    "                vector={\n",
    "                    \"all-MiniLM-L6-v2\": dense_embeddings[i].tolist(),\n",
    "                    \"bm25\": bm25_embeddings[i].as_object(),\n",
    "                },\n",
    "                payload={\n",
    "                    \"_id\": batch[\"_id\"][i],\n",
    "                    \"title\": batch[\"title\"][i],\n",
    "                    \"text\": batch[\"text\"][i],\n",
    "                }\n",
    "            )\n",
    "            for i, _ in enumerate(batch[\"_id\"])\n",
    "        ],\n",
    "        # We send a lot of embeddings at once, so it's best to reduce the batch size.\n",
    "        # Otherwise, we would have gigantic requests sent for each batch and we can\n",
    "        # easily reach the maximum size of a single request.\n",
    "        batch_size=batch_size,  \n",
    "    )"
   ],
   "outputs": [
    {
     "name": "stderr",
     "output_type": "stream",
     "text": [
      "1037it [00:34, 30.30it/s]                          \n"
     ]
    }
   ],
   "execution_count": 18
  },
  {
   "cell_type": "markdown",
   "id": "fd4b092fded5f93d",
   "metadata": {},
   "source": [
    "\n",
    "### Description\n",
    "- **Batching:** We process the dataset in chunks of 5 documents (`batch_size=5`) to manage memory and avoid oversized requests. `tqdm` provides a progress bar for tracking.\n",
    "- **Embedding Generation:** For each batch, we compute dense and sparse embeddings for all abstracts in the batch.\n",
    "- **PointStruct:** Each document becomes a \"point\" in Qdrant with:\n",
    "  - `id`: A unique integer ID from `_id`.\n",
    "  - `vector`: A dictionary with dense (`all-MiniLM-L6-v2`) and sparse (`bm25`) embeddings.\n",
    "  - `payload`: Metadata including the ID, title, and text for retrieval purposes.\n",
    "- **Uploading:** `upload_points` sends these points to the \"scifact\" collection, with batching to optimize performance.\n",
    "\n",
    "### Verifying the Collection\n",
    "\n",
    "Let’s confirm the collection is set up correctly.\n"
   ]
  },
  {
   "cell_type": "code",
   "id": "8d8154fe8e865a8",
   "metadata": {
    "ExecuteTime": {
     "end_time": "2025-07-28T03:34:26.915611Z",
     "start_time": "2025-07-28T03:34:26.907990Z"
    }
   },
   "source": [
    "client.get_collection(\"scifact\")"
   ],
   "outputs": [
    {
     "data": {
      "text/plain": [
       "CollectionInfo(status=<CollectionStatus.GREEN: 'green'>, optimizer_status=<OptimizersStatusOneOf.OK: 'ok'>, vectors_count=None, indexed_vectors_count=5183, points_count=5183, segments_count=2, config=CollectionConfig(params=CollectionParams(vectors={'all-MiniLM-L6-v2': VectorParams(size=384, distance=<Distance.COSINE: 'Cosine'>, hnsw_config=None, quantization_config=None, on_disk=None, datatype=None, multivector_config=None)}, shard_number=1, sharding_method=None, replication_factor=1, write_consistency_factor=1, read_fan_out_factor=None, on_disk_payload=True, sparse_vectors={'bm25': SparseVectorParams(index=None, modifier=<Modifier.IDF: 'idf'>)}), hnsw_config=HnswConfig(m=16, ef_construct=100, full_scan_threshold=10000, max_indexing_threads=0, on_disk=False, payload_m=None), optimizer_config=OptimizersConfig(deleted_threshold=0.2, vacuum_min_vector_number=1000, default_segment_number=0, max_segment_size=None, memmap_threshold=None, indexing_threshold=10000, flush_interval_sec=5, max_optimization_threads=None), wal_config=WalConfig(wal_capacity_mb=32, wal_segments_ahead=0), quantization_config=None, strict_mode_config=StrictModeConfigOutput(enabled=False, max_query_limit=None, max_timeout=None, unindexed_filtering_retrieve=None, unindexed_filtering_update=None, search_max_hnsw_ef=None, search_allow_exact=None, search_max_oversampling=None, upsert_max_batchsize=None, max_collection_vector_size_bytes=None, read_rate_limit=None, write_rate_limit=None, max_collection_payload_size_bytes=None, max_points_count=None, filter_max_conditions=None, condition_max_size=None, multivector_config=None, sparse_config=None)), payload_schema={})"
      ]
     },
     "execution_count": 19,
     "metadata": {},
     "output_type": "execute_result"
    }
   ],
   "execution_count": 19
  },
  {
   "cell_type": "code",
   "execution_count": null,
   "id": "7c0a2a073d878910",
   "metadata": {},
   "outputs": [],
   "source": []
  },
  {
   "cell_type": "code",
   "execution_count": null,
   "id": "15340313",
   "metadata": {},
   "outputs": [],
   "source": []
  },
  {
   "cell_type": "code",
   "execution_count": null,
   "id": "cca46c38",
   "metadata": {},
   "outputs": [],
   "source": []
  }
 ],
 "metadata": {
  "kernelspec": {
   "display_name": "Python 3 (ipykernel)",
   "language": "python",
   "name": "python3"
  },
  "language_info": {
   "codemirror_mode": {
    "name": "ipython",
    "version": 3
   },
   "file_extension": ".py",
   "mimetype": "text/x-python",
   "name": "python",
   "nbconvert_exporter": "python",
   "pygments_lexer": "ipython3",
   "version": "3.11.12"
  }
 },
 "nbformat": 4,
 "nbformat_minor": 5
}

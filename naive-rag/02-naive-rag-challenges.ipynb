{
 "cells": [
  {
   "cell_type": "markdown",
   "metadata": {},
   "source": [
    "# RAG Workshop - Naive RAG Challenges\n",
    "\n",
    "This notebook demonstrates the key limitations of naive RAG systems using our extended Wikipedia dataset. We'll focus on scenarios that clearly show where naive RAG fails and why advanced techniques are necessary.\n",
    "\n",
    "## Dataset Overview:\n",
    "\n",
    "- **61 articles** including Wikipedia + long technical blogs from Lilian Weng, arXiv papers\n",
    "- **1,210 pre-chunked** pieces with 300 character chunks, 50 character overlap\n",
    "- **Pre-embedded** using OpenAI text-embedding-3-small\n",
    "- **Cloud-hosted** on Qdrant for reliable access\n",
    "- **Includes cross-domain articles** to demonstrate naive RAG limitations"
   ]
  },
  {
   "cell_type": "markdown",
   "metadata": {},
   "source": [
    "# 0. Setup Environment"
   ]
  },
  {
   "cell_type": "code",
   "execution_count": 2,
   "metadata": {},
   "outputs": [
    {
     "name": "stdout",
     "output_type": "stream",
     "text": [
      "Requirement already satisfied: pip in /Users/sarangsanjaykulkarni/projects/personal/building-rag-app-workshop/venv/lib/python3.11/site-packages (25.1.1)\n",
      "Note: you may need to restart the kernel to use updated packages.\n",
      "Requirement already satisfied: openai in /Users/sarangsanjaykulkarni/projects/personal/building-rag-app-workshop/venv/lib/python3.11/site-packages (1.97.0)\n",
      "Requirement already satisfied: qdrant-client in /Users/sarangsanjaykulkarni/projects/personal/building-rag-app-workshop/venv/lib/python3.11/site-packages (1.14.3)\n",
      "Requirement already satisfied: tqdm in /Users/sarangsanjaykulkarni/projects/personal/building-rag-app-workshop/venv/lib/python3.11/site-packages (4.67.1)\n",
      "Requirement already satisfied: python-dotenv in /Users/sarangsanjaykulkarni/projects/personal/building-rag-app-workshop/venv/lib/python3.11/site-packages (1.1.1)\n",
      "Requirement already satisfied: ragas in /Users/sarangsanjaykulkarni/projects/personal/building-rag-app-workshop/venv/lib/python3.11/site-packages (0.3.0)\n",
      "Requirement already satisfied: datasets in /Users/sarangsanjaykulkarni/projects/personal/building-rag-app-workshop/venv/lib/python3.11/site-packages (4.0.0)\n",
      "Requirement already satisfied: langchain-openai in /Users/sarangsanjaykulkarni/projects/personal/building-rag-app-workshop/venv/lib/python3.11/site-packages (0.3.28)\n",
      "Requirement already satisfied: anyio<5,>=3.5.0 in /Users/sarangsanjaykulkarni/projects/personal/building-rag-app-workshop/venv/lib/python3.11/site-packages (from openai) (4.9.0)\n",
      "Requirement already satisfied: distro<2,>=1.7.0 in /Users/sarangsanjaykulkarni/projects/personal/building-rag-app-workshop/venv/lib/python3.11/site-packages (from openai) (1.9.0)\n",
      "Requirement already satisfied: httpx<1,>=0.23.0 in /Users/sarangsanjaykulkarni/projects/personal/building-rag-app-workshop/venv/lib/python3.11/site-packages (from openai) (0.28.1)\n",
      "Requirement already satisfied: jiter<1,>=0.4.0 in /Users/sarangsanjaykulkarni/projects/personal/building-rag-app-workshop/venv/lib/python3.11/site-packages (from openai) (0.10.0)\n",
      "Requirement already satisfied: pydantic<3,>=1.9.0 in /Users/sarangsanjaykulkarni/projects/personal/building-rag-app-workshop/venv/lib/python3.11/site-packages (from openai) (2.11.7)\n",
      "Requirement already satisfied: sniffio in /Users/sarangsanjaykulkarni/projects/personal/building-rag-app-workshop/venv/lib/python3.11/site-packages (from openai) (1.3.1)\n",
      "Requirement already satisfied: typing-extensions<5,>=4.11 in /Users/sarangsanjaykulkarni/projects/personal/building-rag-app-workshop/venv/lib/python3.11/site-packages (from openai) (4.14.1)\n",
      "Requirement already satisfied: idna>=2.8 in /Users/sarangsanjaykulkarni/projects/personal/building-rag-app-workshop/venv/lib/python3.11/site-packages (from anyio<5,>=3.5.0->openai) (3.10)\n",
      "Requirement already satisfied: certifi in /Users/sarangsanjaykulkarni/projects/personal/building-rag-app-workshop/venv/lib/python3.11/site-packages (from httpx<1,>=0.23.0->openai) (2025.7.14)\n",
      "Requirement already satisfied: httpcore==1.* in /Users/sarangsanjaykulkarni/projects/personal/building-rag-app-workshop/venv/lib/python3.11/site-packages (from httpx<1,>=0.23.0->openai) (1.0.9)\n",
      "Requirement already satisfied: h11>=0.16 in /Users/sarangsanjaykulkarni/projects/personal/building-rag-app-workshop/venv/lib/python3.11/site-packages (from httpcore==1.*->httpx<1,>=0.23.0->openai) (0.16.0)\n",
      "Requirement already satisfied: annotated-types>=0.6.0 in /Users/sarangsanjaykulkarni/projects/personal/building-rag-app-workshop/venv/lib/python3.11/site-packages (from pydantic<3,>=1.9.0->openai) (0.7.0)\n",
      "Requirement already satisfied: pydantic-core==2.33.2 in /Users/sarangsanjaykulkarni/projects/personal/building-rag-app-workshop/venv/lib/python3.11/site-packages (from pydantic<3,>=1.9.0->openai) (2.33.2)\n",
      "Requirement already satisfied: typing-inspection>=0.4.0 in /Users/sarangsanjaykulkarni/projects/personal/building-rag-app-workshop/venv/lib/python3.11/site-packages (from pydantic<3,>=1.9.0->openai) (0.4.1)\n",
      "Requirement already satisfied: grpcio>=1.41.0 in /Users/sarangsanjaykulkarni/projects/personal/building-rag-app-workshop/venv/lib/python3.11/site-packages (from qdrant-client) (1.73.1)\n",
      "Requirement already satisfied: numpy>=1.21 in /Users/sarangsanjaykulkarni/projects/personal/building-rag-app-workshop/venv/lib/python3.11/site-packages (from qdrant-client) (2.3.1)\n",
      "Requirement already satisfied: portalocker<3.0.0,>=2.7.0 in /Users/sarangsanjaykulkarni/projects/personal/building-rag-app-workshop/venv/lib/python3.11/site-packages (from qdrant-client) (2.10.1)\n",
      "Requirement already satisfied: protobuf>=3.20.0 in /Users/sarangsanjaykulkarni/projects/personal/building-rag-app-workshop/venv/lib/python3.11/site-packages (from qdrant-client) (6.31.1)\n",
      "Requirement already satisfied: urllib3<3,>=1.26.14 in /Users/sarangsanjaykulkarni/projects/personal/building-rag-app-workshop/venv/lib/python3.11/site-packages (from qdrant-client) (2.5.0)\n",
      "Requirement already satisfied: tiktoken in /Users/sarangsanjaykulkarni/projects/personal/building-rag-app-workshop/venv/lib/python3.11/site-packages (from ragas) (0.9.0)\n",
      "Requirement already satisfied: langchain in /Users/sarangsanjaykulkarni/projects/personal/building-rag-app-workshop/venv/lib/python3.11/site-packages (from ragas) (0.3.26)\n",
      "Requirement already satisfied: langchain-core in /Users/sarangsanjaykulkarni/projects/personal/building-rag-app-workshop/venv/lib/python3.11/site-packages (from ragas) (0.3.69)\n",
      "Requirement already satisfied: langchain-community in /Users/sarangsanjaykulkarni/projects/personal/building-rag-app-workshop/venv/lib/python3.11/site-packages (from ragas) (0.3.27)\n",
      "Requirement already satisfied: nest-asyncio in /Users/sarangsanjaykulkarni/projects/personal/building-rag-app-workshop/venv/lib/python3.11/site-packages (from ragas) (1.6.0)\n",
      "Requirement already satisfied: appdirs in /Users/sarangsanjaykulkarni/projects/personal/building-rag-app-workshop/venv/lib/python3.11/site-packages (from ragas) (1.4.4)\n",
      "Requirement already satisfied: diskcache>=5.6.3 in /Users/sarangsanjaykulkarni/projects/personal/building-rag-app-workshop/venv/lib/python3.11/site-packages (from ragas) (5.6.3)\n",
      "Requirement already satisfied: filelock in /Users/sarangsanjaykulkarni/projects/personal/building-rag-app-workshop/venv/lib/python3.11/site-packages (from datasets) (3.18.0)\n",
      "Requirement already satisfied: pyarrow>=15.0.0 in /Users/sarangsanjaykulkarni/projects/personal/building-rag-app-workshop/venv/lib/python3.11/site-packages (from datasets) (20.0.0)\n",
      "Requirement already satisfied: dill<0.3.9,>=0.3.0 in /Users/sarangsanjaykulkarni/projects/personal/building-rag-app-workshop/venv/lib/python3.11/site-packages (from datasets) (0.3.8)\n",
      "Requirement already satisfied: pandas in /Users/sarangsanjaykulkarni/projects/personal/building-rag-app-workshop/venv/lib/python3.11/site-packages (from datasets) (2.3.1)\n",
      "Requirement already satisfied: requests>=2.32.2 in /Users/sarangsanjaykulkarni/projects/personal/building-rag-app-workshop/venv/lib/python3.11/site-packages (from datasets) (2.32.4)\n",
      "Requirement already satisfied: xxhash in /Users/sarangsanjaykulkarni/projects/personal/building-rag-app-workshop/venv/lib/python3.11/site-packages (from datasets) (3.5.0)\n",
      "Requirement already satisfied: multiprocess<0.70.17 in /Users/sarangsanjaykulkarni/projects/personal/building-rag-app-workshop/venv/lib/python3.11/site-packages (from datasets) (0.70.16)\n",
      "Requirement already satisfied: fsspec<=2025.3.0,>=2023.1.0 in /Users/sarangsanjaykulkarni/projects/personal/building-rag-app-workshop/venv/lib/python3.11/site-packages (from fsspec[http]<=2025.3.0,>=2023.1.0->datasets) (2025.3.0)\n",
      "Requirement already satisfied: huggingface-hub>=0.24.0 in /Users/sarangsanjaykulkarni/projects/personal/building-rag-app-workshop/venv/lib/python3.11/site-packages (from datasets) (0.33.4)\n",
      "Requirement already satisfied: packaging in /Users/sarangsanjaykulkarni/projects/personal/building-rag-app-workshop/venv/lib/python3.11/site-packages (from datasets) (25.0)\n",
      "Requirement already satisfied: pyyaml>=5.1 in /Users/sarangsanjaykulkarni/projects/personal/building-rag-app-workshop/venv/lib/python3.11/site-packages (from datasets) (6.0.2)\n",
      "Requirement already satisfied: aiohttp!=4.0.0a0,!=4.0.0a1 in /Users/sarangsanjaykulkarni/projects/personal/building-rag-app-workshop/venv/lib/python3.11/site-packages (from fsspec[http]<=2025.3.0,>=2023.1.0->datasets) (3.12.14)\n",
      "Requirement already satisfied: langsmith>=0.3.45 in /Users/sarangsanjaykulkarni/projects/personal/building-rag-app-workshop/venv/lib/python3.11/site-packages (from langchain-core->ragas) (0.4.6)\n",
      "Requirement already satisfied: tenacity!=8.4.0,<10.0.0,>=8.1.0 in /Users/sarangsanjaykulkarni/projects/personal/building-rag-app-workshop/venv/lib/python3.11/site-packages (from langchain-core->ragas) (9.1.2)\n",
      "Requirement already satisfied: jsonpatch<2.0,>=1.33 in /Users/sarangsanjaykulkarni/projects/personal/building-rag-app-workshop/venv/lib/python3.11/site-packages (from langchain-core->ragas) (1.33)\n",
      "Requirement already satisfied: jsonpointer>=1.9 in /Users/sarangsanjaykulkarni/projects/personal/building-rag-app-workshop/venv/lib/python3.11/site-packages (from jsonpatch<2.0,>=1.33->langchain-core->ragas) (3.0.0)\n",
      "Requirement already satisfied: regex>=2022.1.18 in /Users/sarangsanjaykulkarni/projects/personal/building-rag-app-workshop/venv/lib/python3.11/site-packages (from tiktoken->ragas) (2024.11.6)\n",
      "Requirement already satisfied: aiohappyeyeballs>=2.5.0 in /Users/sarangsanjaykulkarni/projects/personal/building-rag-app-workshop/venv/lib/python3.11/site-packages (from aiohttp!=4.0.0a0,!=4.0.0a1->fsspec[http]<=2025.3.0,>=2023.1.0->datasets) (2.6.1)\n",
      "Requirement already satisfied: aiosignal>=1.4.0 in /Users/sarangsanjaykulkarni/projects/personal/building-rag-app-workshop/venv/lib/python3.11/site-packages (from aiohttp!=4.0.0a0,!=4.0.0a1->fsspec[http]<=2025.3.0,>=2023.1.0->datasets) (1.4.0)\n",
      "Requirement already satisfied: attrs>=17.3.0 in /Users/sarangsanjaykulkarni/projects/personal/building-rag-app-workshop/venv/lib/python3.11/site-packages (from aiohttp!=4.0.0a0,!=4.0.0a1->fsspec[http]<=2025.3.0,>=2023.1.0->datasets) (25.3.0)\n",
      "Requirement already satisfied: frozenlist>=1.1.1 in /Users/sarangsanjaykulkarni/projects/personal/building-rag-app-workshop/venv/lib/python3.11/site-packages (from aiohttp!=4.0.0a0,!=4.0.0a1->fsspec[http]<=2025.3.0,>=2023.1.0->datasets) (1.7.0)\n",
      "Requirement already satisfied: multidict<7.0,>=4.5 in /Users/sarangsanjaykulkarni/projects/personal/building-rag-app-workshop/venv/lib/python3.11/site-packages (from aiohttp!=4.0.0a0,!=4.0.0a1->fsspec[http]<=2025.3.0,>=2023.1.0->datasets) (6.6.3)\n",
      "Requirement already satisfied: propcache>=0.2.0 in /Users/sarangsanjaykulkarni/projects/personal/building-rag-app-workshop/venv/lib/python3.11/site-packages (from aiohttp!=4.0.0a0,!=4.0.0a1->fsspec[http]<=2025.3.0,>=2023.1.0->datasets) (0.3.2)\n",
      "Requirement already satisfied: yarl<2.0,>=1.17.0 in /Users/sarangsanjaykulkarni/projects/personal/building-rag-app-workshop/venv/lib/python3.11/site-packages (from aiohttp!=4.0.0a0,!=4.0.0a1->fsspec[http]<=2025.3.0,>=2023.1.0->datasets) (1.20.1)\n",
      "Requirement already satisfied: h2<5,>=3 in /Users/sarangsanjaykulkarni/projects/personal/building-rag-app-workshop/venv/lib/python3.11/site-packages (from httpx[http2]>=0.20.0->qdrant-client) (4.2.0)\n",
      "Requirement already satisfied: hyperframe<7,>=6.1 in /Users/sarangsanjaykulkarni/projects/personal/building-rag-app-workshop/venv/lib/python3.11/site-packages (from h2<5,>=3->httpx[http2]>=0.20.0->qdrant-client) (6.1.0)\n",
      "Requirement already satisfied: hpack<5,>=4.1 in /Users/sarangsanjaykulkarni/projects/personal/building-rag-app-workshop/venv/lib/python3.11/site-packages (from h2<5,>=3->httpx[http2]>=0.20.0->qdrant-client) (4.1.0)\n",
      "Requirement already satisfied: hf-xet<2.0.0,>=1.1.2 in /Users/sarangsanjaykulkarni/projects/personal/building-rag-app-workshop/venv/lib/python3.11/site-packages (from huggingface-hub>=0.24.0->datasets) (1.1.5)\n",
      "Requirement already satisfied: orjson<4.0.0,>=3.9.14 in /Users/sarangsanjaykulkarni/projects/personal/building-rag-app-workshop/venv/lib/python3.11/site-packages (from langsmith>=0.3.45->langchain-core->ragas) (3.11.0)\n",
      "Requirement already satisfied: requests-toolbelt<2.0.0,>=1.0.0 in /Users/sarangsanjaykulkarni/projects/personal/building-rag-app-workshop/venv/lib/python3.11/site-packages (from langsmith>=0.3.45->langchain-core->ragas) (1.0.0)\n",
      "Requirement already satisfied: zstandard<0.24.0,>=0.23.0 in /Users/sarangsanjaykulkarni/projects/personal/building-rag-app-workshop/venv/lib/python3.11/site-packages (from langsmith>=0.3.45->langchain-core->ragas) (0.23.0)\n",
      "Requirement already satisfied: charset_normalizer<4,>=2 in /Users/sarangsanjaykulkarni/projects/personal/building-rag-app-workshop/venv/lib/python3.11/site-packages (from requests>=2.32.2->datasets) (3.4.2)\n",
      "Requirement already satisfied: langchain-text-splitters<1.0.0,>=0.3.8 in /Users/sarangsanjaykulkarni/projects/personal/building-rag-app-workshop/venv/lib/python3.11/site-packages (from langchain->ragas) (0.3.8)\n",
      "Requirement already satisfied: SQLAlchemy<3,>=1.4 in /Users/sarangsanjaykulkarni/projects/personal/building-rag-app-workshop/venv/lib/python3.11/site-packages (from langchain->ragas) (2.0.41)\n",
      "Requirement already satisfied: dataclasses-json<0.7,>=0.5.7 in /Users/sarangsanjaykulkarni/projects/personal/building-rag-app-workshop/venv/lib/python3.11/site-packages (from langchain-community->ragas) (0.6.7)\n",
      "Requirement already satisfied: pydantic-settings<3.0.0,>=2.4.0 in /Users/sarangsanjaykulkarni/projects/personal/building-rag-app-workshop/venv/lib/python3.11/site-packages (from langchain-community->ragas) (2.10.1)\n",
      "Requirement already satisfied: httpx-sse<1.0.0,>=0.4.0 in /Users/sarangsanjaykulkarni/projects/personal/building-rag-app-workshop/venv/lib/python3.11/site-packages (from langchain-community->ragas) (0.4.1)\n",
      "Requirement already satisfied: marshmallow<4.0.0,>=3.18.0 in /Users/sarangsanjaykulkarni/projects/personal/building-rag-app-workshop/venv/lib/python3.11/site-packages (from dataclasses-json<0.7,>=0.5.7->langchain-community->ragas) (3.26.1)\n",
      "Requirement already satisfied: typing-inspect<1,>=0.4.0 in /Users/sarangsanjaykulkarni/projects/personal/building-rag-app-workshop/venv/lib/python3.11/site-packages (from dataclasses-json<0.7,>=0.5.7->langchain-community->ragas) (0.9.0)\n",
      "Requirement already satisfied: mypy-extensions>=0.3.0 in /Users/sarangsanjaykulkarni/projects/personal/building-rag-app-workshop/venv/lib/python3.11/site-packages (from typing-inspect<1,>=0.4.0->dataclasses-json<0.7,>=0.5.7->langchain-community->ragas) (1.1.0)\n",
      "Requirement already satisfied: python-dateutil>=2.8.2 in /Users/sarangsanjaykulkarni/projects/personal/building-rag-app-workshop/venv/lib/python3.11/site-packages (from pandas->datasets) (2.9.0.post0)\n",
      "Requirement already satisfied: pytz>=2020.1 in /Users/sarangsanjaykulkarni/projects/personal/building-rag-app-workshop/venv/lib/python3.11/site-packages (from pandas->datasets) (2025.2)\n",
      "Requirement already satisfied: tzdata>=2022.7 in /Users/sarangsanjaykulkarni/projects/personal/building-rag-app-workshop/venv/lib/python3.11/site-packages (from pandas->datasets) (2025.2)\n",
      "Requirement already satisfied: six>=1.5 in /Users/sarangsanjaykulkarni/projects/personal/building-rag-app-workshop/venv/lib/python3.11/site-packages (from python-dateutil>=2.8.2->pandas->datasets) (1.17.0)\n",
      "Note: you may need to restart the kernel to use updated packages.\n"
     ]
    }
   ],
   "source": [
    "%pip install --upgrade pip\n",
    "%pip install openai qdrant-client tqdm python-dotenv ragas datasets langchain-openai"
   ]
  },
  {
   "cell_type": "markdown",
   "metadata": {},
   "source": [
    "# 1. Connect to Pre-Populated Qdrant Cloud Collection\n",
    "\n",
    "Instead of fetching and processing data, we'll connect directly to a pre-populated Qdrant Cloud collection containing the extended Wikipedia dataset.\n",
    "\n",
    "**Note**: The ingestion process has already been completed using our automated scripts!\n",
    "\n",
    "### Please use the API Key provided by instructor to access the preuploaded collection"
   ]
  },
  {
   "cell_type": "code",
   "execution_count": 3,
   "metadata": {},
   "outputs": [
    {
     "data": {
      "text/plain": [
       "True"
      ]
     },
     "execution_count": 3,
     "metadata": {},
     "output_type": "execute_result"
    }
   ],
   "source": [
    "from dotenv import load_dotenv, find_dotenv\n",
    "load_dotenv(find_dotenv())"
   ]
  },
  {
   "cell_type": "markdown",
   "metadata": {},
   "source": [
    "### 1.1. Initialize Clients"
   ]
  },
  {
   "cell_type": "code",
   "execution_count": 4,
   "metadata": {},
   "outputs": [
    {
     "name": "stdout",
     "output_type": "stream",
     "text": [
      "✅ Connected to Qdrant Cloud\n",
      "📚 Collection: workshop_wikipedia_extended\n",
      "🤖 Embedding model: text-embedding-3-small\n"
     ]
    }
   ],
   "source": [
    "import os\n",
    "from openai import OpenAI\n",
    "from qdrant_client import QdrantClient\n",
    "\n",
    "# Initialize OpenAI client\n",
    "openai_client = OpenAI()\n",
    "\n",
    "# Initialize Qdrant Cloud client\n",
    "qdrant_client = QdrantClient(\n",
    "    url=os.getenv(\"QDRANT_URL\"),\n",
    "    api_key=os.getenv(\"QDRANT_API_KEY\")\n",
    ")\n",
    "\n",
    "# Collection configuration\n",
    "collection_name = \"workshop_wikipedia_extended\"\n",
    "embedding_model = \"text-embedding-3-small\"\n",
    "\n",
    "print(f\"✅ Connected to Qdrant Cloud\")\n",
    "print(f\"📚 Collection: {collection_name}\")\n",
    "print(f\"🤖 Embedding model: {embedding_model}\")"
   ]
  },
  {
   "cell_type": "markdown",
   "metadata": {},
   "source": [
    "### 1.2. Verify Collection and Dataset"
   ]
  },
  {
   "cell_type": "code",
   "execution_count": 5,
   "metadata": {},
   "outputs": [
    {
     "name": "stdout",
     "output_type": "stream",
     "text": [
      "📊 Collection Statistics:\n",
      "   Total chunks: 1,210\n",
      "   Vector dimension: 1536\n",
      "   Distance metric: Cosine\n",
      "\n",
      "📝 Sample data structure:\n",
      "\n",
      "Chunk 1:\n",
      "   Title: BERT (language model)\n",
      "   Text preview: Bidirectional encoder representations from transformers (BERT) is a language model introduced in Oct...\n",
      "   Chunk 1 of 10\n",
      "\n",
      "Chunk 2:\n",
      "   Title: BERT (language model)\n",
      "   Text preview: Euclidean space. Encoder: a stack of Transformer blocks with self-attention, but without causal mask...\n",
      "   Chunk 2 of 10\n",
      "\n",
      "Chunk 3:\n",
      "   Title: BERT (language model)\n",
      "   Text preview: consists of a sinusoidal function that takes the position in the sequence as input. Segment type: Us...\n",
      "   Chunk 3 of 10\n"
     ]
    }
   ],
   "source": [
    "# Get collection information\n",
    "collection_info = qdrant_client.get_collection(collection_name)\n",
    "point_count = collection_info.points_count\n",
    "\n",
    "print(f\"📊 Collection Statistics:\")\n",
    "print(f\"   Total chunks: {point_count:,}\")\n",
    "print(f\"   Vector dimension: {collection_info.config.params.vectors.size}\")\n",
    "print(f\"   Distance metric: {collection_info.config.params.vectors.distance}\")\n",
    "\n",
    "# Sample a few points to see the data structure\n",
    "sample_points = qdrant_client.scroll(\n",
    "    collection_name=collection_name,\n",
    "    limit=3,\n",
    "    with_payload=True,\n",
    "    with_vectors=False\n",
    ")[0]\n",
    "\n",
    "print(f\"\\n📝 Sample data structure:\")\n",
    "for i, point in enumerate(sample_points):\n",
    "    payload = point.payload\n",
    "    print(f\"\\nChunk {i+1}:\")\n",
    "    print(f\"   Title: {payload.get('title', 'Unknown')}\")\n",
    "    print(f\"   Text preview: {payload.get('text', '')[:100]}...\")\n",
    "    print(f\"   Chunk {payload.get('chunk_index', 0)+1} of {payload.get('total_chunks', 0)}\")"
   ]
  },
  {
   "cell_type": "markdown",
   "metadata": {},
   "source": [
    "## 2. Build the Q/A Chatbot\n",
    "\n",
    "Now we can focus on the core RAG functionality without worrying about data preparation!\n",
    "\n",
    "![../imgs/naive-rag.png](../imgs/naive-rag.png)"
   ]
  },
  {
   "cell_type": "markdown",
   "metadata": {},
   "source": [
    "### 2.1. Retrieval - Search the cloud database for relevant embeddings"
   ]
  },
  {
   "cell_type": "code",
   "execution_count": 16,
   "metadata": {},
   "outputs": [],
   "source": [
    "def vector_search(query, top_k=2):\n",
    "    \"\"\"Search the Qdrant Cloud collection for relevant chunks.\"\"\"\n",
    "    # Create embedding of the query\n",
    "    response = openai_client.embeddings.create(\n",
    "        input=query,\n",
    "        model=embedding_model\n",
    "    )\n",
    "    query_embeddings = response.data[0].embedding\n",
    "    \n",
    "    # Similarity search using the embedding\n",
    "    search_result = qdrant_client.query_points(\n",
    "        collection_name=collection_name,\n",
    "        query=query_embeddings,\n",
    "        with_payload=True,\n",
    "        limit=top_k,\n",
    "    ).points\n",
    "    \n",
    "    return [result.payload for result in search_result]"
   ]
  },
  {
   "cell_type": "markdown",
   "metadata": {},
   "source": [
    "### 2.2. Generation - Use retrieved chunks to generate answers"
   ]
  },
  {
   "cell_type": "code",
   "execution_count": null,
   "metadata": {},
   "outputs": [],
   "source": [
    "import json\n",
    "\n",
    "def model_generate(prompt, model=\"gpt-4.1-nano\"):\n",
    "    \"\"\"Generate response using OpenAI's chat completion.\"\"\"\n",
    "    messages = [{\"role\": \"user\", \"content\": prompt}]\n",
    "    response = openai_client.chat.completions.create(\n",
    "        model=model,\n",
    "        messages=messages,\n",
    "        temperature=0,  # Deterministic output\n",
    "    )\n",
    "    return response.choices[0].message.content\n",
    "\n",
    "def prompt_template(question, context):\n",
    "    \"\"\"Create a prompt template for RAG.\"\"\"\n",
    "    return f\"\"\"You are an AI Assistant that provides answers to questions based on the following context. \n",
    "Make sure to only use the context to answer the question. Keep the wording very close to the context.\n",
    "\n",
    "Context:\n",
    "```\n",
    "{json.dumps(context)}\n",
    "```\n",
    "\n",
    "User question: {question}\n",
    "\n",
    "Answer in markdown:\"\"\"\n",
    "\n",
    "def generate_answer(question):\n",
    "    \"\"\"Complete RAG pipeline: retrieve and generate.\"\"\"\n",
    "    # Retrieval: search the knowledge base\n",
    "    search_result = vector_search(question)\n",
    "    \n",
    "    # Generation: create prompt and generate answer\n",
    "    prompt = prompt_template(question, search_result)\n",
    "    return model_generate(prompt)"
   ]
  },
  {
   "cell_type": "markdown",
   "metadata": {},
   "source": [
    "### 2.3. Test Basic RAG Functionality"
   ]
  },
  {
   "cell_type": "code",
   "execution_count": 8,
   "metadata": {},
   "outputs": [
    {
     "name": "stdout",
     "output_type": "stream",
     "text": [
      "🔍 Question: What does the word 'deep' in 'deep learning' refer to?\n",
      "\n",
      "📚 Retrieved Sources:\n",
      "\n",
      "1. From 'Deep learning':\n",
      "   In machine learning, deep learning focuses on utilizing multilayered neural networks to perform tasks such as classification, regression, and represen...\n",
      "\n",
      "2. From 'Deep learning':\n",
      "   a hierarchy of layers is used to transform input data into a progressively more abstract and composite representation. For example, in an image recogn...\n",
      "\n",
      "3. From 'Deep learning':\n",
      "   output layer is also parameterized). For recurrent neural networks, in which a signal may propagate through a layer more than once, the CAP depth is p...\n",
      "\n",
      "🤖 Generated Answer:\n",
      "The word \"deep\" in \"deep learning\" refers to the number of layers through which the data is transformed. More precisely, deep learning systems have a substantial credit assignment path (CAP) depth. The CAP is the chain of transformations from input to output. For a feedforward neural network, the depth of the CAPs is that of the network and is the number of hidden layers plus one (as the output layer is also parameterized). For recurrent neural networks, in which a signal may propagate through a layer more than once, the CAP depth is potentially unlimited. No universally agreed-upon threshold of depth divides shallow learning from deep learning, but most researchers agree that deep learning involves CAP depth higher than two.\n"
     ]
    }
   ],
   "source": [
    "# Test with a clear, unambiguous question first\n",
    "question = \"What does the word 'deep' in 'deep learning' refer to?\"\n",
    "search_result = vector_search(question, top_k=3)\n",
    "\n",
    "print(f\"🔍 Question: {question}\")\n",
    "print(f\"\\n📚 Retrieved Sources:\")\n",
    "for i, result in enumerate(search_result):\n",
    "    print(f\"\\n{i+1}. From '{result.get('title', 'Unknown')}':\")\n",
    "    print(f\"   {result.get('text', '')[:150]}...\")\n",
    "\n",
    "# Generate answer\n",
    "answer = generate_answer(question)\n",
    "print(f\"\\n🤖 Generated Answer:\")\n",
    "print(answer)"
   ]
  },
  {
   "cell_type": "markdown",
   "metadata": {},
   "source": [
    "## 3. Demonstrating Naive RAG Limitations\n",
    "\n",
    "Now let's test scenarios where naive RAG fails due to **terminology overlap** and **cross-domain confusion**. We'll focus only on cases that clearly demonstrate confusion."
   ]
  },
  {
   "cell_type": "markdown",
   "metadata": {},
   "source": [
    "### 🧪 Confusion Test 1: Optimization Context Confusion\n",
    "\n",
    "This question should demonstrate confusion between mathematical optimization and machine learning optimization."
   ]
  },
  {
   "cell_type": "code",
   "execution_count": 14,
   "metadata": {},
   "outputs": [
    {
     "name": "stdout",
     "output_type": "stream",
     "text": [
      "🧪 CONFUSION TEST 1: What is optimization in machine learning?\n",
      "============================================================\n",
      "📚 Retrieved Sources:\n",
      "\n",
      "1. Mathematical optimization\n",
      "   Preview: Mathematical optimization (alternatively spelled optimisation) or mathematical programming is the selection of a best el...\n",
      "\n",
      "2. Optimization (mathematics)\n",
      "   Preview: Mathematical optimization (alternatively spelled optimisation) or mathematical programming is the selection of a best el...\n",
      "\n",
      "3. Artificial neural network\n",
      "   Preview: If after learning, the error rate is too high, the network typically must be redesigned. Practically this is done by def...\n",
      "\n",
      "4. Mathematical optimization\n",
      "   Preview: recent and growing subset of this field is multidisciplinary design optimization, which, while useful in many problems, ...\n",
      "\n",
      "5. Optimization (mathematics)\n",
      "   Preview: recent and growing subset of this field is multidisciplinary design optimization, which, while useful in many problems, ...\n",
      "\n",
      "🔍 Analysis:\n",
      "   Optimization contexts found: ML Optimization, Mathematical Optimization\n",
      "   ⚠️  CONFUSION DETECTED: Multiple optimization contexts mixed\n",
      "\n",
      "🤖 Generated Answer:\n",
      "```markdown\n",
      "Most learning models in machine learning can be viewed as a straightforward application of optimization theory and statistical estimation. Optimization in this context involves defining a cost function that is evaluated periodically during learning. As long as the output of this cost function continues to decline, learning continues. The goal is to reduce the total of the differences across the observations, which is often achieved by adjusting the model's parameters to minimize the error rate. Techniques such as Quickprop are used to speed up error minimization, while other improvements aim to increase reliability. An adaptive learning rate is used to avoid oscillation and improve the rate of convergence, with the concept of momentum allowing the balance between the gradient and the previous change to be weighted appropriately.\n",
      "```\n"
     ]
    }
   ],
   "source": [
    "confusion_question_1 = \"What is optimization in machine learning?\"\n",
    "\n",
    "print(f\"🧪 CONFUSION TEST 1: {confusion_question_1}\")\n",
    "print(\"=\" * 60)\n",
    "\n",
    "# Get detailed search results\n",
    "results = vector_search(confusion_question_1, top_k=5)\n",
    "\n",
    "print(f\"📚 Retrieved Sources:\")\n",
    "optimization_contexts = set()\n",
    "for i, result in enumerate(results):\n",
    "    title = result.get('title', 'Unknown')\n",
    "    text = result.get('text', '')\n",
    "    text_preview = text[:120]\n",
    "    print(f\"\\n{i+1}. {title}\")\n",
    "    print(f\"   Preview: {text_preview}...\")\n",
    "    \n",
    "    # Categorize optimization contexts\n",
    "    if any(term in title.lower() for term in ['mathematical optimization', 'optimization (mathematics)']):\n",
    "        optimization_contexts.add('Mathematical Optimization')\n",
    "    elif any(term in text.lower() for term in ['machine learning', 'neural network', 'gradient']):\n",
    "        optimization_contexts.add('ML Optimization')\n",
    "    elif any(term in text.lower() for term in ['evolutionary', 'genetic algorithm']):\n",
    "        optimization_contexts.add('Evolutionary Optimization')\n",
    "    elif 'optimization' in title.lower():\n",
    "        optimization_contexts.add('General Optimization')\n",
    "\n",
    "print(f\"\\n🔍 Analysis:\")\n",
    "print(f\"   Optimization contexts found: {', '.join(optimization_contexts) if optimization_contexts else 'Mixed/Unclear'}\")\n",
    "\n",
    "if len(optimization_contexts) > 1:\n",
    "    print(f\"   ⚠️  CONFUSION DETECTED: Multiple optimization contexts mixed\")\n",
    "else:\n",
    "    print(f\"   ✅ Results focused on single optimization context\")\n",
    "\n",
    "# Generate answer\n",
    "answer = generate_answer(confusion_question_1)\n",
    "print(f\"\\n🤖 Generated Answer:\")\n",
    "print(answer)"
   ]
  },
  {
   "cell_type": "markdown",
   "metadata": {},
   "source": [
    "## 4. RAG Evaluation with RAGAS\n",
    "\n",
    "Now let's evaluate our naive RAG system using **RAGAS** to establish baseline performance metrics and quantify the confusion we've observed.\n",
    "\n",
    "### Context-Focused Metrics:\n",
    "\n",
    "1. **Context Precision**: How well are relevant chunks ranked at the top?\n",
    "2. **Context Recall**: How much of the necessary information was retrieved?\n",
    "3. **Context Relevancy**: How relevant is the retrieved context to the question?\n",
    "\n",
    "We're using **RAGAS** because it's purpose-built for RAG evaluation and provides deep insights into context quality - the most critical component of RAG performance."
   ]
  },
  {
   "cell_type": "code",
   "execution_count": 17,
   "metadata": {},
   "outputs": [
    {
     "name": "stdout",
     "output_type": "stream",
     "text": [
      "🔍 Evaluating your Naive RAG system with RAGAS...\n",
      "This will evaluate context quality metrics on 15 questions...\n",
      "\n",
      "✅ Loaded 14 questions from evaluation dataset\n",
      "\n",
      "Evaluating 14 questions...\n",
      "\n",
      "Question 1/14: Who introduced the ReLU (rectified linear unit) ac...\n",
      "Question 2/14: What was the first working deep learning algorithm...\n",
      "Question 3/14: Which CNN achieved superhuman performance in a vis...\n",
      "Question 4/14: When was BERT introduced and by which organization...\n",
      "Question 5/14: What are the two model sizes BERT was originally i...\n",
      "Question 6/14: What percentage of tokens are randomly selected fo...\n",
      "Question 7/14: Who introduced the term 'deep learning' to the mac...\n",
      "Question 8/14: Which three researchers were awarded the 2018 Turi...\n",
      "Question 9/14: When was the first GPT introduced and by which org...\n",
      "Question 10/14: What were the three parameter sizes of the first v...\n",
      "Question 11/14: What is the 'one in ten rule' in regression analys...\n",
      "Question 12/14: What is the essence of overfitting according to th...\n",
      "Question 13/14: In which year and paper was the modern version of ...\n",
      "Question 14/14: What value did the original Transformer paper use ...\n",
      "\n",
      "🔍 Running RAGAS evaluation...\n"
     ]
    },
    {
     "name": "stderr",
     "output_type": "stream",
     "text": [
      "Evaluating: 100%|██████████| 14/14 [00:03<00:00,  4.00it/s]\n"
     ]
    },
    {
     "name": "stdout",
     "output_type": "stream",
     "text": [
      "\n",
      "============================================================\n",
      "RAGAS EVALUATION RESULTS\n",
      "============================================================\n",
      "\n",
      "CONTEXT RECALL METRIC (0.0 - 1.0 scale):\n",
      "  🟡 Context Recall: 0.786\n",
      "\n",
      "🟡 GOOD: Your context retrieval is working well.\n",
      "============================================================\n"
     ]
    }
   ],
   "source": [
    "# Import the RAGAS evaluation utility\n",
    "from rag_evaluator_v2 import evaluate_naive_rag_v2\n",
    "\n",
    "# Run evaluation on the current RAG system using RAGAS\n",
    "print(\"🔍 Evaluating your Naive RAG system with RAGAS...\")\n",
    "print(\"This will evaluate context quality metrics on 15 questions...\\n\")\n",
    "\n",
    "baseline_results = evaluate_naive_rag_v2(\n",
    "    vector_search_func=vector_search,\n",
    "    generate_answer_func=generate_answer\n",
    ")"
   ]
  },
  {
   "cell_type": "markdown",
   "metadata": {},
   "source": [
    "## 5. Confusion Analysis Summary\n",
    "\n",
    "Let's analyze the patterns of confusion we've observed and quantify the impact on RAG performance."
   ]
  },
  {
   "cell_type": "code",
   "execution_count": null,
   "metadata": {},
   "outputs": [
    {
     "name": "stdout",
     "output_type": "stream",
     "text": [
      "📊 NAIVE RAG CONFUSION ANALYSIS\n",
      "==================================================\n",
      "\n",
      "❓ Question: What are agents in AI systems?\n",
      "   Expected: Should focus on AI/ML agents\n",
      "   Retrieved from: Artificial intelligence, History of artificial intelligence, Artificial intelligence\n",
      "   Domains found: Wikipedia Articles\n",
      "   ✅ Focused results\n",
      "\n",
      "❓ Question: What is the architecture of transformer models?\n",
      "   Expected: Should focus on transformer architecture\n",
      "   Retrieved from: Transformer (machine learning model), Transformer (machine learning model), Artificial neural network\n",
      "   Domains found: Wikipedia Articles, Transformer Articles\n",
      "   ⚠️  CONFUSION: Mixed domains detected\n",
      "\n",
      "❓ Question: What is active learning in machine learning?\n",
      "   Expected: Should focus on active learning\n",
      "   Retrieved from: Artificial intelligence, Deep learning, Ensemble learning\n",
      "   Domains found: Wikipedia Articles\n",
      "   ✅ Focused results\n",
      "\n",
      "❓ Question: What is optimization in machine learning?\n",
      "   Expected: Should focus on ML optimization\n",
      "   Retrieved from: Optimization (mathematics), Mathematical optimization, Artificial neural network\n",
      "   Domains found: Wikipedia Articles, Optimization Articles\n",
      "   ⚠️  CONFUSION: Mixed domains detected\n",
      "\n",
      "📈 CONFUSION SUMMARY:\n",
      "   Confused queries: 2/4 (50.0%)\n",
      "\n",
      "🎯 SIGNIFICANT CONFUSION DETECTED!\n",
      "   The extended dataset successfully demonstrates naive RAG limitations.\n"
     ]
    }
   ],
   "source": [
    "print(\"📊 NAIVE RAG CONFUSION ANALYSIS\")\n",
    "print(\"=\" * 50)\n",
    "\n",
    "# Test our key confusion scenarios\n",
    "confusion_tests = [\n",
    "    (\"What are agents in AI systems?\", \"Should focus on AI/ML agents\"),\n",
    "    (\"What is the architecture of transformer models?\", \"Should focus on transformer architecture\"),\n",
    "    (\"What is active learning in machine learning?\", \"Should focus on active learning\"),\n",
    "    (\"What is optimization in machine learning?\", \"Should focus on ML optimization\")\n",
    "]\n",
    "\n",
    "confusion_detected = 0\n",
    "total_tests = len(confusion_tests)\n",
    "\n",
    "for question, expected_focus in confusion_tests:\n",
    "    results = vector_search(question, top_k=3)\n",
    "    titles = [r.get('title', '') for r in results]\n",
    "    \n",
    "    # Analyze domain mixing - check for articles from different sources\n",
    "    domains_found = set()\n",
    "    for title in titles:\n",
    "        title_lower = title.lower()\n",
    "        # Check for long articles\n",
    "        if 'lilianweng' in title_lower:\n",
    "            domains_found.add('Lilian Weng Blog')\n",
    "        elif 'arxiv' in title_lower:\n",
    "            domains_found.add('arXiv Papers')\n",
    "        elif any(term in title_lower for term in ['gpt', 'llama', 'bert']):\n",
    "            domains_found.add('Model-Specific Articles')\n",
    "        elif any(term in title_lower for term in ['transformer', 'attention']):\n",
    "            domains_found.add('Transformer Articles')\n",
    "        elif any(term in title_lower for term in ['optimization', 'mathematical']):\n",
    "            domains_found.add('Optimization Articles')\n",
    "        else:\n",
    "            domains_found.add('Wikipedia Articles')\n",
    "    \n",
    "    print(f\"\\n❓ Question: {question}\")\n",
    "    print(f\"   Expected: {expected_focus}\")\n",
    "    print(f\"   Retrieved from: {', '.join(titles)}\")\n",
    "    print(f\"   Domains found: {', '.join(domains_found)}\")\n",
    "    \n",
    "    if len(domains_found) > 1:\n",
    "        confusion_detected += 1\n",
    "        print(f\"   ⚠️  CONFUSION: Mixed domains detected\")\n",
    "    else:\n",
    "        print(f\"   ✅ Focused results\")\n",
    "\n",
    "print(f\"\\n📈 CONFUSION SUMMARY:\")\n",
    "print(f\"   Confused queries: {confusion_detected}/{total_tests} ({confusion_detected/total_tests*100:.1f}%)\")\n",
    "\n",
    "if confusion_detected >= total_tests * 0.5:\n",
    "    print(f\"\\n🎯 SIGNIFICANT CONFUSION DETECTED!\")\n",
    "    print(f\"   The extended dataset successfully demonstrates naive RAG limitations.\")\n",
    "else:\n",
    "    print(f\"\\n✅ Limited confusion observed.\")\n",
    "    print(f\"   Results suggest the current dataset may need refinement.\")"
   ]
  },
  {
   "cell_type": "markdown",
   "metadata": {},
   "source": [
    "## 6. Summary: Why We Need Advanced RAG Techniques\n",
    "\n",
    "Through our focused evaluation with the extended dataset, we've identified key limitations of naive RAG:\n",
    "\n",
    "### 📋 Key Findings:\n",
    "\n",
    "1. **Terminology Overlap**: Simple vector similarity struggles with terms that have different meanings across domains (\"agent\", \"model\", \"learning\", \"optimization\")\n",
    "\n",
    "2. **Context Disambiguation**: The system cannot distinguish between semantically similar but contextually different concepts\n",
    "\n",
    "3. **Domain Boundary Issues**: Cross-domain vocabulary creates confusion when the same terms appear in different technical contexts\n",
    "\n",
    "4. **Ranking Limitations**: Most relevant information isn't always ranked first due to semantic similarity bias\n",
    "\n",
    "5. **Scale Challenges**: Performance degrades with larger, more diverse knowledge bases containing overlapping terminology\n",
    "\n",
    "### 🎯 Next Steps:\n",
    "\n",
    "These limitations motivate the need for **Advanced RAG techniques**:\n",
    "\n",
    "- **Reranking**: Improve relevance of retrieved chunks using cross-encoders that understand context better\n",
    "- **Hybrid Search**: Combine semantic and keyword search for better coverage and precision\n",
    "- **Query Enhancement**: Improve query understanding and expansion to disambiguate intent\n",
    "- **Context Optimization**: Better chunk strategies and context assembly techniques\n",
    "- **Multi-step Reasoning**: Chain multiple retrieval steps for complex questions\n",
    "\n",
    "### 💡 Benefits of This Focused Approach:\n",
    "\n",
    "- ✅ **Clear Demonstrations**: Focused on scenarios that actually show confusion\n",
    "- ✅ **Quantifiable Issues**: RAGAS metrics provide concrete evidence of limitations\n",
    "- ✅ **Educational Value**: Students see exactly where and why naive RAG fails\n",
    "- ✅ **Motivation for Advanced Techniques**: Clear justification for the complexity of advanced RAG\n",
    "- ✅ **Realistic Scenarios**: Demonstrates actual challenges with larger knowledge bases\n",
    "\n",
    "**Ready for the next notebook**: Advanced RAG techniques that address these specific limitations!"
   ]
  }
 ],
 "metadata": {
  "kernelspec": {
   "display_name": "venv",
   "language": "python",
   "name": "python3"
  },
  "language_info": {
   "codemirror_mode": {
    "name": "ipython",
    "version": 3
   },
   "file_extension": ".py",
   "mimetype": "text/x-python",
   "name": "python",
   "nbconvert_exporter": "python",
   "pygments_lexer": "ipython3",
   "version": "3.11.12"
  }
 },
 "nbformat": 4,
 "nbformat_minor": 4
}
